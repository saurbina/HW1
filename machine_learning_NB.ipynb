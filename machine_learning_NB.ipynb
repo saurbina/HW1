{
  "nbformat": 4,
  "nbformat_minor": 0,
  "metadata": {
    "colab": {
      "provenance": [],
      "authorship_tag": "ABX9TyN/Re/e2LHeEpje5iucofzq",
      "include_colab_link": true
    },
    "kernelspec": {
      "name": "python3",
      "display_name": "Python 3"
    },
    "language_info": {
      "name": "python"
    }
  },
  "cells": [
    {
      "cell_type": "markdown",
      "metadata": {
        "id": "view-in-github",
        "colab_type": "text"
      },
      "source": [
        "<a href=\"https://colab.research.google.com/github/saurbina/HW1/blob/main/machine_learning_NB.ipynb\" target=\"_parent\"><img src=\"https://colab.research.google.com/assets/colab-badge.svg\" alt=\"Open In Colab\"/></a>"
      ]
    },
    {
      "cell_type": "markdown",
      "source": [
        "# Class Nº2"
      ],
      "metadata": {
        "id": "TKojARUlpgrE"
      }
    },
    {
      "cell_type": "markdown",
      "source": [
        "## 1.Homework Nº1:\n",
        "Q1 here...."
      ],
      "metadata": {
        "id": "ndi4f1PXp0wD"
      }
    },
    {
      "cell_type": "code",
      "execution_count": 1,
      "metadata": {
        "colab": {
          "base_uri": "https://localhost:8080/"
        },
        "id": "LGDpNtZIez9b",
        "outputId": "160247ce-7bda-4ecc-e66f-93aeef8806d3"
      },
      "outputs": [
        {
          "output_type": "execute_result",
          "data": {
            "text/plain": [
              "2"
            ]
          },
          "metadata": {},
          "execution_count": 1
        }
      ],
      "source": [
        "1+1"
      ]
    },
    {
      "cell_type": "code",
      "source": [],
      "metadata": {
        "id": "OhxiEGRZpoF9"
      },
      "execution_count": null,
      "outputs": []
    }
  ]
}